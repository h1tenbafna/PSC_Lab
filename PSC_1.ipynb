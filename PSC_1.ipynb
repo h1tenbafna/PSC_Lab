{
  "nbformat": 4,
  "nbformat_minor": 0,
  "metadata": {
    "colab": {
      "provenance": [],
      "collapsed_sections": [],
      "include_colab_link": true
    },
    "kernelspec": {
      "name": "python3",
      "display_name": "Python 3"
    },
    "language_info": {
      "name": "python"
    }
  },
  "cells": [
    {
      "cell_type": "markdown",
      "metadata": {
        "id": "view-in-github",
        "colab_type": "text"
      },
      "source": [
        "<a href=\"https://colab.research.google.com/github/h1tenbafna/PSC_Lab/blob/main/PSC_1.ipynb\" target=\"_parent\"><img src=\"https://colab.research.google.com/assets/colab-badge.svg\" alt=\"Open In Colab\"/></a>"
      ]
    },
    {
      "cell_type": "markdown",
      "source": [
        "# Perceptron Algorithm for AND and OR Gate (Training & testing)"
      ],
      "metadata": {
        "id": "s8pANUsuTq8f"
      }
    },
    {
      "cell_type": "code",
      "source": [
        "import numpy as np"
      ],
      "metadata": {
        "id": "9Nrwf5enI4c1"
      },
      "execution_count": null,
      "outputs": []
    },
    {
      "cell_type": "code",
      "source": [
        "def activation (net):\n",
        "    if net >= 1:\n",
        "        return 1\n",
        "    else:\n",
        "        return -1"
      ],
      "metadata": {
        "id": "cC20EP6sI6AR"
      },
      "execution_count": null,
      "outputs": []
    },
    {
      "cell_type": "code",
      "source": [
        "pattern = [[1,1], [1,-1], [-1,1], [-1,-1]]\n",
        "p = np.asarray(pattern)"
      ],
      "metadata": {
        "id": "x6eJlgGiI-k0"
      },
      "execution_count": null,
      "outputs": []
    },
    {
      "cell_type": "code",
      "source": [
        "y_true =  [1, -1, -1, -1]\n",
        "# output for or gate\n",
        "#y_true = [1, 1, 1, -1] \n",
        "\n",
        "w1 = 0\n",
        "w2 = 0\n",
        "bias = 0\n",
        "error = np.zeros(10)\n",
        "learning_rate = 1\n"
      ],
      "metadata": {
        "id": "CCEATnv-JBLz"
      },
      "execution_count": null,
      "outputs": []
    },
    {
      "cell_type": "code",
      "source": [
        "for i in range(len(p)):\n",
        "  y_act = w1 * p[i][0] + w2 * p[i][1] + bias\n",
        "  y_act = activation(y_act)\n",
        "  error[i] = y_true[i] - y_act \n",
        "  if error[i] != 0 :\n",
        "      # modifying the weights \n",
        "      w1 = w1 + learning_rate * y_true[i] * p[i][0]\n",
        "      w2 = w2 + learning_rate * y_true[i] * p[i][1]\n",
        "      bias = bias + learning_rate * y_true[i]\n",
        "print(\"w1 = \" + str(w1)+ \", w2 = \"+ str(w2)+ \", bias = \"+ str(bias))"
      ],
      "metadata": {
        "colab": {
          "base_uri": "https://localhost:8080/"
        },
        "id": "NFhgirNvJDxu",
        "outputId": "077fcea5-4d94-4ff3-8886-161607f81d2f"
      },
      "execution_count": null,
      "outputs": [
        {
          "output_type": "stream",
          "name": "stdout",
          "text": [
            "w1 = 1, w2 = 1, bias = -1\n"
          ]
        }
      ]
    },
    {
      "cell_type": "code",
      "source": [
        "def predict(x1, x2, y):\n",
        "  y_act = w1 * x1 + w2 * x2 + bias\n",
        "  y_act = activation(y_act)\n",
        "  return y_act"
      ],
      "metadata": {
        "id": "sDWItTsJQUwX"
      },
      "execution_count": null,
      "outputs": []
    },
    {
      "cell_type": "code",
      "source": [
        "while True :\n",
        "    x = int(input(\"Input value of x: \"))\n",
        "    y = int(input(\"Input value of y: \"))\n",
        "    expected = int(input(\"Result for AND gate? Input 1 for true or 0 for false: \"))\n",
        "\n",
        "    print(predict(x,y,expected))\n",
        "    \n",
        "    if input(\"Would you like to exit? y/n: \") == 'y' :\n",
        "        break"
      ],
      "metadata": {
        "colab": {
          "base_uri": "https://localhost:8080/"
        },
        "id": "1y3nzakwQ1eB",
        "outputId": "93ce4b53-80ca-4b60-f208-2701b1c3d7f4"
      },
      "execution_count": null,
      "outputs": [
        {
          "name": "stdout",
          "output_type": "stream",
          "text": [
            "Input value of x: 1\n",
            "Input value of y: -1\n",
            "What should the AND gate result be? Input 1 for true or 0 for false: -1\n",
            "-1\n",
            "Would you like to exit? y/n: n\n",
            "Input value of x: -1\n",
            "Input value of y: -1\n",
            "What should the AND gate result be? Input 1 for true or 0 for false: -1\n",
            "-1\n",
            "Would you like to exit? y/n: n\n",
            "Input value of x: 10\n",
            "Input value of y: -12\n",
            "What should the AND gate result be? Input 1 for true or 0 for false: -1\n",
            "-1\n",
            "Would you like to exit? y/n: n\n",
            "Input value of x: 1\n",
            "Input value of y: -1\n",
            "What should the AND gate result be? Input 1 for true or 0 for false: -1\n",
            "-1\n",
            "Would you like to exit? y/n: y\n"
          ]
        }
      ]
    }
  ]
}